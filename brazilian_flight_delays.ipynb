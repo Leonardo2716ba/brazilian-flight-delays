{
  "nbformat": 4,
  "nbformat_minor": 0,
  "metadata": {
    "colab": {
      "provenance": [],
      "authorship_tag": "ABX9TyMaeh9ZQrjPRXeb+4awq2WU",
      "include_colab_link": true
    },
    "kernelspec": {
      "name": "python3",
      "display_name": "Python 3"
    },
    "language_info": {
      "name": "python"
    }
  },
  "cells": [
    {
      "cell_type": "markdown",
      "metadata": {
        "id": "view-in-github",
        "colab_type": "text"
      },
      "source": [
        "<a href=\"https://colab.research.google.com/github/Leonardo2716ba/brazilian-flight-delays/blob/main/brazilian_flight_delays.ipynb\" target=\"_parent\"><img src=\"https://colab.research.google.com/assets/colab-badge.svg\" alt=\"Open In Colab\"/></a>"
      ]
    },
    {
      "cell_type": "code",
      "source": [
        "!pip install pandas"
      ],
      "metadata": {
        "colab": {
          "base_uri": "https://localhost:8080/"
        },
        "id": "bkjeZpPdmX9A",
        "outputId": "ca997d31-5b5d-450f-b3a5-19eddce5ceaa"
      },
      "execution_count": null,
      "outputs": [
        {
          "output_type": "stream",
          "name": "stdout",
          "text": [
            "Requirement already satisfied: pandas in /usr/local/lib/python3.11/dist-packages (2.2.2)\n",
            "Requirement already satisfied: numpy>=1.23.2 in /usr/local/lib/python3.11/dist-packages (from pandas) (2.0.2)\n",
            "Requirement already satisfied: python-dateutil>=2.8.2 in /usr/local/lib/python3.11/dist-packages (from pandas) (2.9.0.post0)\n",
            "Requirement already satisfied: pytz>=2020.1 in /usr/local/lib/python3.11/dist-packages (from pandas) (2025.2)\n",
            "Requirement already satisfied: tzdata>=2022.7 in /usr/local/lib/python3.11/dist-packages (from pandas) (2025.2)\n",
            "Requirement already satisfied: six>=1.5 in /usr/local/lib/python3.11/dist-packages (from python-dateutil>=2.8.2->pandas) (1.17.0)\n"
          ]
        }
      ]
    },
    {
      "cell_type": "code",
      "source": [
        "!ls dataset\n",
        "!pwd"
      ],
      "metadata": {
        "colab": {
          "base_uri": "https://localhost:8080/"
        },
        "id": "ZR_whR6VnDGJ",
        "outputId": "4b03cf60-f19f-4afd-fc4d-1ce38b69e3a6"
      },
      "execution_count": 14,
      "outputs": [
        {
          "output_type": "stream",
          "name": "stdout",
          "text": [
            "/content\n"
          ]
        }
      ]
    },
    {
      "cell_type": "code",
      "execution_count": null,
      "metadata": {
        "colab": {
          "base_uri": "https://localhost:8080/"
        },
        "id": "g7eKdHn8gU3h",
        "outputId": "43513433-e973-451b-f5e7-b9083b597b95"
      },
      "outputs": [
        {
          "output_type": "stream",
          "name": "stderr",
          "text": [
            "/tmp/ipython-input-12-23468784.py:4: DtypeWarning: Columns (22,24,42,46,47) have mixed types. Specify dtype option on import or set low_memory=False.\n",
            "  df = pd.read_csv('dataset/bfd_2020_bfd.csv')\n"
          ]
        },
        {
          "output_type": "stream",
          "name": "stdout",
          "text": [
            "  arrival depart      route company flight   di type depart_day_period  \\\n",
            "0    CYUL   SBGR  SBGR-CYUL     ACA   0097  0.0    I     Early Morning   \n",
            "1    CYUL   SBGR  SBGR-CYUL     ACA   0097  0.0    I     Early Morning   \n",
            "2    CYUL   SBGR  SBGR-CYUL     ACA   0097  0.0    I     Early Morning   \n",
            "3    CYUL   SBGR  SBGR-CYUL     ACA   0097  0.0    I     Early Morning   \n",
            "4    CYUL   SBGR  SBGR-CYUL     ACA   0097  0.0    I     Early Morning   \n",
            "\n",
            "  arrival_day_period      expected_depart  ... arrival_dew_point  \\\n",
            "0      Early Evening  2020-01-02 08:40:00  ...               NaN   \n",
            "1      Early Evening  2020-01-04 08:40:00  ...               NaN   \n",
            "2      Early Evening  2020-01-06 08:40:00  ...               NaN   \n",
            "3      Early Evening  2020-01-09 08:40:00  ...               NaN   \n",
            "4      Early Evening  2020-01-11 08:40:00  ...               NaN   \n",
            "\n",
            "  arrival_relative_humidity arrival_wind_direction arrival_wind_speed  \\\n",
            "0                       NaN                    NaN                NaN   \n",
            "1                       NaN                    NaN                NaN   \n",
            "2                       NaN                    NaN                NaN   \n",
            "3                       NaN                    NaN                NaN   \n",
            "4                       NaN                    NaN                NaN   \n",
            "\n",
            "  arrival_sky_coverage arrival_pressure  arrival_visibility  \\\n",
            "0                  NaN              NaN                 NaN   \n",
            "1                  NaN              NaN                 NaN   \n",
            "2                  NaN              NaN                 NaN   \n",
            "3                  NaN              NaN                 NaN   \n",
            "4                  NaN              NaN                 NaN   \n",
            "\n",
            "   arrival_apparent_temperature  arrival_wind_speed_scale  \\\n",
            "0                           NaN                       NaN   \n",
            "1                           NaN                       NaN   \n",
            "2                           NaN                       NaN   \n",
            "3                           NaN                       NaN   \n",
            "4                           NaN                       NaN   \n",
            "\n",
            "   arrival_wind_direction_cat  \n",
            "0                         NaN  \n",
            "1                         NaN  \n",
            "2                         NaN  \n",
            "3                         NaN  \n",
            "4                         NaN  \n",
            "\n",
            "[5 rows x 48 columns]\n"
          ]
        }
      ],
      "source": [
        "import pandas as pd\n",
        "\n",
        "# Ajuste o caminho para onde o CSV está no seu ambiente Colab\n",
        "df = pd.read_csv('dataset/bfd_2020_bfd.csv')\n",
        "\n",
        "# Visualizar as primeiras linhas\n",
        "print(df.head())\n"
      ]
    }
  ]
}